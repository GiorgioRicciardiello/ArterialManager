{
 "cells": [
  {
   "metadata": {},
   "cell_type": "markdown",
   "source": [
    "# 🧬 ArterialManager + Vessel Overlap Demo\n",
    "\n",
    "This notebook demonstrates how to:\n",
    "1. Mount Google Drive (if using Google Colab) 📂\n",
    "2. Install dependencies (from `environment.yml` or `requirements.txt`)\n",
    "3. Import the **ArterialManager** library\n",
    "4. Run both:\n",
    "   - 📊 Table processing (Angiotool + Cell Count + Sample)\n",
    "   - 📈 Vessel overlap analysis (Green/Red colocalization)\n",
    "\n",
    "---\n"
   ],
   "id": "b749bb876d787538"
  },
  {
   "metadata": {},
   "cell_type": "code",
   "outputs": [],
   "execution_count": null,
   "source": [
    "# ======================================================\n",
    "# 1. Imports\n",
    "# ======================================================\n",
    "from pathlib import Path\n",
    "from google.colab import drive\n",
    "import os\n",
    "# Import your modules\n",
    "from library.ImageOverlap.overlap_images import run_batch_overlap"
   ],
   "id": "ef437df0e07c6d6e"
  },
  {
   "metadata": {
    "ExecuteTime": {
     "end_time": "2025-10-03T17:02:22.548921Z",
     "start_time": "2025-10-03T17:02:22.300560Z"
    }
   },
   "cell_type": "code",
   "source": [
    "# ======================================================\n",
    "# 0. Setup (Google Colab or Local)\n",
    "# ======================================================\n",
    "\n",
    "# If using Google Colab, mount Drive\n",
    "try:\n",
    "    drive.mount('/content/drive')\n",
    "    base_path = Path(\"/content/drive/MyDrive/YourSharedFolder\")  # 👈 update this\n",
    "except ImportError:\n",
    "    from pathlib import Path\n",
    "    base_path = Path.cwd()   # local repo\n",
    "\n",
    "# Install repo if running in Colab (optional)\n",
    "!pip install -q git+https://github.com/GiorgioRicciardiello/ArterialManager.git\n",
    "!pip install -r requirements.txt\n",
    "\n",
    "\n",
    "path_out =  Path(\"/content/drive/MyDrive/YourSharedFolder/StoreResults\")  # 👈 update this\n"
   ],
   "id": "b3fb115dc7a9625d",
   "outputs": [
    {
     "ename": "NameError",
     "evalue": "name 'drive' is not defined",
     "output_type": "error",
     "traceback": [
      "\u001B[31m---------------------------------------------------------------------------\u001B[39m",
      "\u001B[31mNameError\u001B[39m                                 Traceback (most recent call last)",
      "\u001B[36mCell\u001B[39m\u001B[36m \u001B[39m\u001B[32mIn[1]\u001B[39m\u001B[32m, line 7\u001B[39m\n\u001B[32m      1\u001B[39m \u001B[38;5;66;03m# ======================================================\u001B[39;00m\n\u001B[32m      2\u001B[39m \u001B[38;5;66;03m# 0. Setup (Google Colab or Local)\u001B[39;00m\n\u001B[32m      3\u001B[39m \u001B[38;5;66;03m# ======================================================\u001B[39;00m\n\u001B[32m      4\u001B[39m \n\u001B[32m      5\u001B[39m \u001B[38;5;66;03m# If using Google Colab, mount Drive\u001B[39;00m\n\u001B[32m      6\u001B[39m \u001B[38;5;28;01mtry\u001B[39;00m:\n\u001B[32m----> \u001B[39m\u001B[32m7\u001B[39m     \u001B[43mdrive\u001B[49m.mount(\u001B[33m'\u001B[39m\u001B[33m/content/drive\u001B[39m\u001B[33m'\u001B[39m)\n\u001B[32m      8\u001B[39m     base_path = Path(\u001B[33m\"\u001B[39m\u001B[33m/content/drive/MyDrive/YourSharedFolder\u001B[39m\u001B[33m\"\u001B[39m)  \u001B[38;5;66;03m# 👈 update this\u001B[39;00m\n\u001B[32m      9\u001B[39m \u001B[38;5;28;01mexcept\u001B[39;00m \u001B[38;5;167;01mImportError\u001B[39;00m:\n",
      "\u001B[31mNameError\u001B[39m: name 'drive' is not defined"
     ]
    }
   ],
   "execution_count": 1
  },
  {
   "metadata": {},
   "cell_type": "code",
   "outputs": [],
   "execution_count": null,
   "source": [
    "# Paths\n",
    "\n",
    "# Run\n",
    "n_jobs = os.cpu_count()\n",
    "df_all = run_batch_overlap(base_path, path_out, n_jobs=n_jobs)"
   ],
   "id": "75e4a32ff4e911d7"
  }
 ],
 "metadata": {
  "kernelspec": {
   "display_name": "Python 3",
   "language": "python",
   "name": "python3"
  },
  "language_info": {
   "codemirror_mode": {
    "name": "ipython",
    "version": 2
   },
   "file_extension": ".py",
   "mimetype": "text/x-python",
   "name": "python",
   "nbconvert_exporter": "python",
   "pygments_lexer": "ipython2",
   "version": "2.7.6"
  }
 },
 "nbformat": 4,
 "nbformat_minor": 5
}
